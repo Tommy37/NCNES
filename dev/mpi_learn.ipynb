{
 "cells": [
  {
   "cell_type": "code",
   "execution_count": null,
   "id": "initial_id",
   "metadata": {
    "collapsed": true
   },
   "outputs": [],
   "source": [
    "from mpi4py import MPI\n",
    "\n",
    "comm = MPI.COMM_WORLD\n",
    "size = comm.Get_size()\n",
    "rank = comm.Get_rank()\n",
    "\n",
    "if rank == 0:\n",
    "    msg = 'Hello, world'\n",
    "    comm.send(msg, dest=1)\n",
    "elif rank == 1:\n",
    "    s = comm.recv()\n",
    "    print(\"rank %d: %s\" % (rank, s))\n",
    "else:\n",
    "    print(\"rank %d: idle\" % rank)"
   ]
  },
  {
   "cell_type": "code",
   "execution_count": 3,
   "outputs": [],
   "source": [
    "import numpy as np\n",
    "sigmas_list = np.zeros([2, 5, 5])\n",
    "sigmas_list[0] = np.diag([1, 2, 3, 4, 5])"
   ],
   "metadata": {
    "collapsed": false,
    "ExecuteTime": {
     "end_time": "2023-11-16T15:57:42.979510Z",
     "start_time": "2023-11-16T15:57:42.973276Z"
    }
   },
   "id": "6dbda7e07e057f6f"
  },
  {
   "cell_type": "code",
   "execution_count": 4,
   "outputs": [
    {
     "data": {
      "text/plain": "array([[[1., 0., 0., 0., 0.],\n        [0., 2., 0., 0., 0.],\n        [0., 0., 3., 0., 0.],\n        [0., 0., 0., 4., 0.],\n        [0., 0., 0., 0., 5.]],\n\n       [[0., 0., 0., 0., 0.],\n        [0., 0., 0., 0., 0.],\n        [0., 0., 0., 0., 0.],\n        [0., 0., 0., 0., 0.],\n        [0., 0., 0., 0., 0.]]])"
     },
     "execution_count": 4,
     "metadata": {},
     "output_type": "execute_result"
    }
   ],
   "source": [
    "sigmas_list"
   ],
   "metadata": {
    "collapsed": false,
    "ExecuteTime": {
     "end_time": "2023-11-16T15:57:46.148320Z",
     "start_time": "2023-11-16T15:57:46.139532Z"
    }
   },
   "id": "ad86dbc5f304f93e"
  },
  {
   "cell_type": "code",
   "execution_count": null,
   "outputs": [],
   "source": [],
   "metadata": {
    "collapsed": false
   },
   "id": "67ca38c9cbb10612"
  }
 ],
 "metadata": {
  "kernelspec": {
   "display_name": "Python 3",
   "language": "python",
   "name": "python3"
  },
  "language_info": {
   "codemirror_mode": {
    "name": "ipython",
    "version": 2
   },
   "file_extension": ".py",
   "mimetype": "text/x-python",
   "name": "python",
   "nbconvert_exporter": "python",
   "pygments_lexer": "ipython2",
   "version": "2.7.6"
  }
 },
 "nbformat": 4,
 "nbformat_minor": 5
}
