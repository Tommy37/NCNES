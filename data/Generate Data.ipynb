{
 "cells": [
  {
   "cell_type": "code",
   "execution_count": 3,
   "metadata": {
    "ExecuteTime": {
     "end_time": "2023-11-13T05:58:31.109789Z",
     "start_time": "2023-11-13T05:58:31.043935Z"
    }
   },
   "outputs": [],
   "source": [
    "import math\n",
    "\n",
    "import numpy as np"
   ]
  },
  {
   "cell_type": "code",
   "execution_count": 4,
   "metadata": {
    "ExecuteTime": {
     "end_time": "2023-10-17T07:35:27.075724Z",
     "start_time": "2023-10-17T07:35:27.069997Z"
    }
   },
   "outputs": [],
   "source": [
    "data = np.random.uniform(-100, 100, size=1000)\n",
    "np.save(\"f1.npy\", data)"
   ]
  },
  {
   "cell_type": "code",
   "execution_count": 7,
   "metadata": {},
   "outputs": [],
   "source": [
    "test_func_bound = {\n",
    "    1:[-100, 100],\n",
    "    2:[-100, 100],\n",
    "    3:[-100, 100],\n",
    "    4:[-5, 5],\n",
    "    5:[-600, 600],\n",
    "    6:[-32, 32],\n",
    "    7:[0, 0],\n",
    "}\n",
    "\n",
    "for i in range(1, 7):\n",
    "    bound = test_func_bound[i]\n",
    "    data = np.random.uniform(bound[0], bound[1], size=1000)\n",
    "    np.save(\"f%d.npy\" % i, data)"
   ]
  },
  {
   "cell_type": "code",
   "execution_count": 5,
   "outputs": [
    {
     "data": {
      "text/plain": "array([[1, 1, 1, 1, 1],\n       [2, 2, 2, 2, 2],\n       [3, 3, 3, 3, 3]])"
     },
     "execution_count": 5,
     "metadata": {},
     "output_type": "execute_result"
    }
   ],
   "source": [
    "l1 = np.array([1, 1, 1, 1, 1])\n",
    "l2 = np.array([2, 2, 2, 2, 2])\n",
    "l3 = np.array([3, 3, 3, 3, 3])\n",
    "\n",
    "mean_list = np.array([l1, l2, l3])\n",
    "# for i, mi in enumerate(mean_list):\n",
    "#     print(i, mi)\n"
   ],
   "metadata": {
    "collapsed": false,
    "ExecuteTime": {
     "end_time": "2023-11-13T05:58:45.232379Z",
     "start_time": "2023-11-13T05:58:45.228597Z"
    }
   }
  },
  {
   "cell_type": "code",
   "execution_count": 6,
   "outputs": [],
   "source": [
    "rank = [1, 2, 3, 4, 5]\n",
    "mu = 7\n",
    "util_ = np.maximum(0, np.log(mu / 2 + 1) - np.log(rank))\n",
    "utility = (util_ / (util_.sum())) - (1 / mu)"
   ],
   "metadata": {
    "collapsed": false,
    "ExecuteTime": {
     "end_time": "2023-11-13T06:08:41.169423Z",
     "start_time": "2023-11-13T06:08:41.161113Z"
    }
   }
  },
  {
   "cell_type": "code",
   "execution_count": 8,
   "outputs": [
    {
     "data": {
      "text/plain": "array([1.5040774 , 0.81093022, 0.40546511, 0.11778304, 0.        ])"
     },
     "execution_count": 8,
     "metadata": {},
     "output_type": "execute_result"
    }
   ],
   "source": [
    "util_"
   ],
   "metadata": {
    "collapsed": false,
    "ExecuteTime": {
     "end_time": "2023-11-13T06:09:04.656495Z",
     "start_time": "2023-11-13T06:09:04.652297Z"
    }
   }
  },
  {
   "cell_type": "code",
   "execution_count": 9,
   "outputs": [
    {
     "data": {
      "text/plain": "array([ 3.87073042e-01,  1.42857143e-01, -2.77555756e-17, -1.01358756e-01,\n       -1.42857143e-01])"
     },
     "execution_count": 9,
     "metadata": {},
     "output_type": "execute_result"
    }
   ],
   "source": [
    "utility"
   ],
   "metadata": {
    "collapsed": false,
    "ExecuteTime": {
     "end_time": "2023-11-13T06:10:08.156202Z",
     "start_time": "2023-11-13T06:10:08.151192Z"
    }
   }
  },
  {
   "cell_type": "code",
   "execution_count": 10,
   "outputs": [],
   "source": [
    "def calUtility(rewards):\n",
    "    rank = [0 for i in range(len(rewards))]\n",
    "    for r, i in enumerate(np.argsort(rewards)[::-1]):\n",
    "        rank[i] = r + 1  # rank kid by reward\n",
    "    mu = 7\n",
    "    util_ = np.maximum(0, np.log(mu / 2 + 1) - np.log(rank))\n",
    "    utility = (util_ / (util_.sum())) - (1 / mu)\n",
    "    return utility"
   ],
   "metadata": {
    "collapsed": false,
    "ExecuteTime": {
     "end_time": "2023-11-13T06:45:56.853886Z",
     "start_time": "2023-11-13T06:45:56.845956Z"
    }
   }
  },
  {
   "cell_type": "code",
   "execution_count": 12,
   "outputs": [
    {
     "name": "stdout",
     "output_type": "stream",
     "text": [
      "0 4\n",
      "1 3\n",
      "2 2\n",
      "3 0\n",
      "4 1\n"
     ]
    }
   ],
   "source": [
    "r = [3, 1, 6, 7, 8]\n",
    "for r_, i in enumerate(np.argsort(r)[::-1]):\n",
    "    print(r_, i)"
   ],
   "metadata": {
    "collapsed": false,
    "ExecuteTime": {
     "end_time": "2023-11-13T06:47:06.791535Z",
     "start_time": "2023-11-13T06:47:06.786540Z"
    }
   }
  },
  {
   "cell_type": "code",
   "execution_count": 2,
   "outputs": [],
   "source": [
    "import numpy as np\n",
    "dg = [1, 2, 3, 1, 1, 2, 2, 3, 3, 3]\n",
    "sigma = np.diag(dg)"
   ],
   "metadata": {
    "collapsed": false,
    "ExecuteTime": {
     "end_time": "2023-11-17T00:23:48.845100Z",
     "start_time": "2023-11-17T00:23:48.764224Z"
    }
   }
  },
  {
   "cell_type": "code",
   "execution_count": 86,
   "outputs": [
    {
     "data": {
      "text/plain": "array([[1, 0, 0, 0, 0, 0, 0, 0, 0, 0],\n       [0, 2, 0, 0, 0, 0, 0, 0, 0, 0],\n       [0, 0, 3, 0, 0, 0, 0, 0, 0, 0],\n       [0, 0, 0, 1, 0, 0, 0, 0, 0, 0],\n       [0, 0, 0, 0, 1, 0, 0, 0, 0, 0],\n       [0, 0, 0, 0, 0, 2, 0, 0, 0, 0],\n       [0, 0, 0, 0, 0, 0, 2, 0, 0, 0],\n       [0, 0, 0, 0, 0, 0, 0, 3, 0, 0],\n       [0, 0, 0, 0, 0, 0, 0, 0, 3, 0],\n       [0, 0, 0, 0, 0, 0, 0, 0, 0, 3]])"
     },
     "execution_count": 86,
     "metadata": {},
     "output_type": "execute_result"
    }
   ],
   "source": [
    "sigma"
   ],
   "metadata": {
    "collapsed": false,
    "ExecuteTime": {
     "end_time": "2023-11-16T16:04:05.703527Z",
     "start_time": "2023-11-16T16:04:05.697459Z"
    }
   }
  },
  {
   "cell_type": "code",
   "execution_count": 3,
   "outputs": [],
   "source": [
    "\n",
    "def inverse(mat):\n",
    "    \"\"\" Inverse for a diagonal matrix.\n",
    "      \n",
    "    mat: An diagonal matrix\n",
    "    \"\"\"\n",
    "    d = mat.shape[0]\n",
    "    indices = np.diag_indices(d)\n",
    "    return np.diag(1 / mat[indices])"
   ],
   "metadata": {
    "collapsed": false,
    "ExecuteTime": {
     "end_time": "2023-11-17T00:23:50.537743Z",
     "start_time": "2023-11-17T00:23:50.530031Z"
    }
   }
  },
  {
   "cell_type": "code",
   "execution_count": 88,
   "outputs": [
    {
     "name": "stdout",
     "output_type": "stream",
     "text": [
      "[[1.         0.         0.         0.         0.         0.\n",
      "  0.         0.         0.         0.        ]\n",
      " [0.         0.5        0.         0.         0.         0.\n",
      "  0.         0.         0.         0.        ]\n",
      " [0.         0.         0.33333333 0.         0.         0.\n",
      "  0.         0.         0.         0.        ]\n",
      " [0.         0.         0.         1.         0.         0.\n",
      "  0.         0.         0.         0.        ]\n",
      " [0.         0.         0.         0.         1.         0.\n",
      "  0.         0.         0.         0.        ]\n",
      " [0.         0.         0.         0.         0.         0.5\n",
      "  0.         0.         0.         0.        ]\n",
      " [0.         0.         0.         0.         0.         0.\n",
      "  0.5        0.         0.         0.        ]\n",
      " [0.         0.         0.         0.         0.         0.\n",
      "  0.         0.33333333 0.         0.        ]\n",
      " [0.         0.         0.         0.         0.         0.\n",
      "  0.         0.         0.33333333 0.        ]\n",
      " [0.         0.         0.         0.         0.         0.\n",
      "  0.         0.         0.         0.33333333]]\n"
     ]
    }
   ],
   "source": [
    "print(inverse(sigma))"
   ],
   "metadata": {
    "collapsed": false,
    "ExecuteTime": {
     "end_time": "2023-11-16T16:04:13.769853Z",
     "start_time": "2023-11-16T16:04:13.762161Z"
    }
   }
  },
  {
   "cell_type": "code",
   "execution_count": 4,
   "outputs": [
    {
     "name": "stdout",
     "output_type": "stream",
     "text": [
      "[[0.25973295 0.         0.         0.        ]\n",
      " [0.         0.07056496 0.         0.        ]\n",
      " [0.         0.         0.79446869 0.        ]\n",
      " [0.         0.         0.         1.26524775]]\n",
      "[[ 0.25973295  0.          0.          0.        ]\n",
      " [ 0.          0.07056496 -0.         -0.        ]\n",
      " [ 0.         -0.          0.79446869 -0.        ]\n",
      " [ 0.         -0.         -0.          1.26524775]]\n",
      "[[0.25973295 0.         0.         0.        ]\n",
      " [0.         0.07056496 0.         0.        ]\n",
      " [0.         0.         0.79446869 0.        ]\n",
      " [0.         0.         0.         1.26524775]]\n"
     ]
    }
   ],
   "source": [
    "rg = np.random.default_rng(66666)\n",
    "mean = [1, 2, 3, 4]\n",
    "sigma = np.diag([8, 4, 2, 1])\n",
    "sigma_inv = inverse(sigma)\n",
    "x_train = rg.multivariate_normal(mean, sigma, 5)\n",
    "\n",
    "ret1 = np.zeros_like(sigma, dtype=float)\n",
    "for x in x_train:\n",
    "    y = (x - mean).reshape(4, 1)\n",
    "    # ret1 += np.dot(np.dot(np.dot(sigma_inv, y), y.T), sigma_inv)\n",
    "    ret1 += sigma_inv * y * y.T * sigma_inv\n",
    "ret1 /= x_train.shape[0]\n",
    "\n",
    "ret2 = np.zeros_like(sigma, dtype=float)\n",
    "tmp = np.zeros_like(sigma, dtype=float)\n",
    "for x in x_train:\n",
    "    y = (x - mean).reshape(4, 1)\n",
    "    tmp += y * y.T\n",
    "ret2 = sigma_inv * tmp * sigma_inv\n",
    "ret2 /= x_train.shape[0]\n",
    "\n",
    "ret3 = np.zeros_like(sigma, dtype=float)\n",
    "diag = np.diag(sigma_inv)\n",
    "for x in x_train:\n",
    "    y = (x - mean) * diag\n",
    "    ret3 += np.diag(y * y)\n",
    "ret3 /= x_train.shape[0]\n",
    "print(ret1)\n",
    "print(ret2)\n",
    "print(ret3)\n",
    "\n",
    "\n"
   ],
   "metadata": {
    "collapsed": false,
    "ExecuteTime": {
     "end_time": "2023-11-17T00:23:54.055918Z",
     "start_time": "2023-11-17T00:23:54.051152Z"
    }
   }
  },
  {
   "cell_type": "code",
   "execution_count": 12,
   "outputs": [],
   "source": [
    "print(np.diag(sigma))"
   ],
   "metadata": {
    "collapsed": false,
    "ExecuteTime": {
     "end_time": "2023-11-17T00:26:28.689968Z",
     "start_time": "2023-11-17T00:26:28.682799Z"
    }
   }
  },
  {
   "cell_type": "code",
   "execution_count": 41,
   "outputs": [
    {
     "data": {
      "text/plain": "array([[ 3.85010831,  0.        ,  0.        ,  0.        ],\n       [ 0.        , 14.1713403 ,  0.        ,  0.        ],\n       [ 0.        ,  0.        ,  1.25870284,  0.        ],\n       [ 0.        ,  0.        ,  0.        ,  0.79035904]])"
     },
     "execution_count": 41,
     "metadata": {},
     "output_type": "execute_result"
    }
   ],
   "source": [],
   "metadata": {
    "collapsed": false,
    "ExecuteTime": {
     "end_time": "2023-11-17T00:39:13.683867Z",
     "start_time": "2023-11-17T00:39:13.680071Z"
    }
   }
  },
  {
   "cell_type": "code",
   "execution_count": 115,
   "outputs": [
    {
     "name": "stdout",
     "output_type": "stream",
     "text": [
      "[0.5        0.33333333 0.25       0.2       ]\n"
     ]
    }
   ],
   "source": [
    "t1 = np.array([2, 3, 4, 5])\n",
    "print(1 / t1)"
   ],
   "metadata": {
    "collapsed": false,
    "ExecuteTime": {
     "end_time": "2023-11-16T17:38:44.741575Z",
     "start_time": "2023-11-16T17:38:44.723274Z"
    }
   }
  },
  {
   "cell_type": "code",
   "execution_count": 13,
   "outputs": [],
   "source": [
    "import numpy as np\n",
    "rg = np.random.default_rng(66666)\n",
    "d = 7\n",
    "mu = 5\n",
    "# mean = np.random.randint(1, 100, size=d)\n",
    "# sigma = np.random.randint(1, 100, size=d)\n",
    "mean = np.ones(d)\n",
    "sigma = np.ones(d)\n",
    "sigma_inv = 1 / sigma\n",
    "# x_train = rg.multivariate_normal(mean, np.diag(sigma), mu)\n",
    "x_train = np.random.rand(mu, d)\n",
    "f = np.random.randint(1, 100, size=mu)\n",
    "\n"
   ],
   "metadata": {
    "collapsed": false,
    "ExecuteTime": {
     "end_time": "2023-11-16T18:39:26.282534Z",
     "start_time": "2023-11-16T18:39:26.276404Z"
    }
   }
  },
  {
   "cell_type": "code",
   "execution_count": 16,
   "outputs": [
    {
     "data": {
      "text/plain": "array([[0.07726816, 0.64824261, 0.34204371, 0.18246443, 0.29859897,\n        0.8880455 , 0.84447806],\n       [0.57367185, 0.26634243, 0.82498753, 0.18933588, 0.26672184,\n        0.31281133, 0.89788844],\n       [0.0720262 , 0.08797784, 0.59655564, 0.64179357, 0.33381629,\n        0.28710383, 0.02938456],\n       [0.49972444, 0.37976091, 0.05291851, 0.076592  , 0.10414954,\n        0.65947679, 0.35111669],\n       [0.84851183, 0.59155188, 0.52814652, 0.07826432, 0.74341434,\n        0.39889907, 0.9020331 ]])"
     },
     "execution_count": 16,
     "metadata": {},
     "output_type": "execute_result"
    }
   ],
   "source": [
    "x_train"
   ],
   "metadata": {
    "collapsed": false,
    "ExecuteTime": {
     "end_time": "2023-11-16T18:46:28.395252Z",
     "start_time": "2023-11-16T18:46:28.390755Z"
    }
   }
  },
  {
   "cell_type": "code",
   "execution_count": 18,
   "outputs": [],
   "source": [
    "Y = x_train - mean"
   ],
   "metadata": {
    "collapsed": false,
    "ExecuteTime": {
     "end_time": "2023-11-16T18:46:43.291282Z",
     "start_time": "2023-11-16T18:46:43.281765Z"
    }
   }
  },
  {
   "cell_type": "code",
   "execution_count": 15,
   "outputs": [
    {
     "name": "stdout",
     "output_type": "stream",
     "text": [
      "0.0001742839813232422\n",
      "7.891654968261719e-05\n",
      "3.552713678800501e-15\n",
      "[-22.82337662 -31.27774434 -20.18607299 -39.94379445 -29.6517156\n",
      " -29.8751217  -13.75936615]\n",
      "[-22.82337662 -31.27774434 -20.18607299 -39.94379445 -29.6517156\n",
      " -29.8751217  -13.75936615]\n"
     ]
    }
   ],
   "source": [
    "import time\n",
    "\n",
    "start = time.time()\n",
    "ans1 = np.zeros_like(mean, dtype=float)\n",
    "for i in range(mu):\n",
    "    ans1 += sigma_inv * (x_train[i] - mean) * f[i]\n",
    "ans1 /= mu\n",
    "end = time.time()\n",
    "print(str(end - start))\n",
    "# ans2 = np.zeros_like(mean, dtype=float)\n",
    "\n",
    "start = time.time()\n",
    "ans2 = sigma_inv * np.dot((x_train - mean).T, f) / mu\n",
    "# ans2 = (sigma_inv * np.dot(f.reshape(1, mu), (x_train - mean)).flatten()) / mu\n",
    "end = time.time()\n",
    "print(str(end - start))\n",
    "print(sum(ans1 - ans2))\n",
    "print(ans1)\n",
    "print(ans2)\n"
   ],
   "metadata": {
    "collapsed": false,
    "ExecuteTime": {
     "end_time": "2023-11-16T18:39:36.198438Z",
     "start_time": "2023-11-16T18:39:36.192966Z"
    }
   }
  },
  {
   "cell_type": "code",
   "execution_count": 6,
   "outputs": [
    {
     "ename": "ValueError",
     "evalue": "cannot reshape array of size 10000 into shape (1,10)",
     "output_type": "error",
     "traceback": [
      "\u001B[0;31m---------------------------------------------------------------------------\u001B[0m",
      "\u001B[0;31mValueError\u001B[0m                                Traceback (most recent call last)",
      "Cell \u001B[0;32mIn[6], line 1\u001B[0m\n\u001B[0;32m----> 1\u001B[0m np\u001B[38;5;241m.\u001B[39mdot(\u001B[43mf\u001B[49m\u001B[38;5;241;43m.\u001B[39;49m\u001B[43mreshape\u001B[49m\u001B[43m(\u001B[49m\u001B[38;5;241;43m1\u001B[39;49m\u001B[43m,\u001B[49m\u001B[43m \u001B[49m\u001B[38;5;241;43m10\u001B[39;49m\u001B[43m)\u001B[49m, (x_train \u001B[38;5;241m-\u001B[39m mean))\u001B[38;5;241m.\u001B[39mflatten()\u001B[38;5;241m.\u001B[39mshape\n",
      "\u001B[0;31mValueError\u001B[0m: cannot reshape array of size 10000 into shape (1,10)"
     ]
    }
   ],
   "source": [
    "np.dot(f.reshape(1, 10), (x_train - mean)).flatten().shape"
   ],
   "metadata": {
    "collapsed": false,
    "ExecuteTime": {
     "end_time": "2023-11-16T18:19:18.429842Z",
     "start_time": "2023-11-16T18:19:18.185992Z"
    }
   }
  },
  {
   "cell_type": "code",
   "execution_count": 42,
   "outputs": [
    {
     "data": {
      "text/plain": "array([ 0.85143405,  0.49493304,  3.89615829, 10.6938306 , 12.29908518])"
     },
     "execution_count": 42,
     "metadata": {},
     "output_type": "execute_result"
    }
   ],
   "source": [
    "a = Y[0][:5]\n",
    "sig = np.array([1, 2, 3, 4, 5])\n",
    "a * a * sig * sig"
   ],
   "metadata": {
    "collapsed": false,
    "ExecuteTime": {
     "end_time": "2023-11-16T18:57:50.730578Z",
     "start_time": "2023-11-16T18:57:50.720745Z"
    }
   }
  },
  {
   "cell_type": "code",
   "execution_count": 39,
   "outputs": [
    {
     "data": {
      "text/plain": "array([-0.92273184, -0.35175739, -0.65795629, -0.81753557, -0.70140103])"
     },
     "execution_count": 39,
     "metadata": {},
     "output_type": "execute_result"
    }
   ],
   "source": [
    "a"
   ],
   "metadata": {
    "collapsed": false,
    "ExecuteTime": {
     "end_time": "2023-11-16T18:57:31.055934Z",
     "start_time": "2023-11-16T18:57:31.045209Z"
    }
   }
  },
  {
   "cell_type": "code",
   "execution_count": 1,
   "outputs": [
    {
     "data": {
      "text/plain": "1700293557.171977"
     },
     "execution_count": 1,
     "metadata": {},
     "output_type": "execute_result"
    }
   ],
   "source": [
    "import time\n",
    "time.time()"
   ],
   "metadata": {
    "collapsed": false,
    "ExecuteTime": {
     "end_time": "2023-11-18T07:45:57.177537Z",
     "start_time": "2023-11-18T07:45:57.171723Z"
    }
   }
  },
  {
   "cell_type": "code",
   "execution_count": 1,
   "outputs": [
    {
     "name": "stdout",
     "output_type": "stream",
     "text": [
      "[4 2 5 6 1 3]\n"
     ]
    }
   ],
   "source": [
    "import numpy as np\n",
    "rewards = np.array([500, 300, 700, 900, 100, 400])\n",
    "ranks = np.zeros_like(rewards)\n",
    "for r, idx in enumerate(np.argsort(rewards)):\n",
    "    ranks[idx] = r + 1\n",
    "\n",
    "print(ranks)"
   ],
   "metadata": {
    "collapsed": false,
    "ExecuteTime": {
     "end_time": "2023-11-18T16:47:53.016437Z",
     "start_time": "2023-11-18T16:47:52.949608Z"
    }
   }
  },
  {
   "cell_type": "code",
   "execution_count": 11,
   "outputs": [
    {
     "data": {
      "text/plain": "1.9459101490553132"
     },
     "execution_count": 11,
     "metadata": {},
     "output_type": "execute_result"
    }
   ],
   "source": [
    "import math\n",
    "math.log(7)"
   ],
   "metadata": {
    "collapsed": false,
    "ExecuteTime": {
     "end_time": "2023-11-18T08:29:31.689658Z",
     "start_time": "2023-11-18T08:29:31.680337Z"
    }
   }
  },
  {
   "cell_type": "code",
   "execution_count": 14,
   "outputs": [
    {
     "data": {
      "text/plain": "6.958750970637271"
     },
     "execution_count": 14,
     "metadata": {},
     "output_type": "execute_result"
    }
   ],
   "source": [
    "math.e ** 1.94"
   ],
   "metadata": {
    "collapsed": false,
    "ExecuteTime": {
     "end_time": "2023-11-18T08:29:50.874983Z",
     "start_time": "2023-11-18T08:29:50.867708Z"
    }
   }
  },
  {
   "cell_type": "code",
   "execution_count": 15,
   "outputs": [
    {
     "data": {
      "text/plain": "3.7"
     },
     "execution_count": 15,
     "metadata": {},
     "output_type": "execute_result"
    }
   ],
   "source": [
    "max(0., 3.7)"
   ],
   "metadata": {
    "collapsed": false,
    "ExecuteTime": {
     "end_time": "2023-11-18T08:32:55.000958Z",
     "start_time": "2023-11-18T08:32:54.982434Z"
    }
   }
  },
  {
   "cell_type": "code",
   "execution_count": 23,
   "outputs": [],
   "source": [
    "def u(rewards):\n",
    "    ranks = np.zeros_like(rewards)\n",
    "    for r, idx in enumerate(np.argsort(rewards)[::-1]):\n",
    "        ranks[idx] = r + 1\n",
    "\n",
    "    mu = rewards.shape[0]\n",
    "    dividend = np.maximum(0., np.log(mu / 2 + 1) - np.log(ranks))\n",
    "    divisor = dividend.sum()\n",
    "    utils = dividend / divisor\n",
    "    utils -= 1 / mu\n",
    "    return utils"
   ],
   "metadata": {
    "collapsed": false,
    "ExecuteTime": {
     "end_time": "2023-11-18T08:42:35.794217Z",
     "start_time": "2023-11-18T08:42:35.791185Z"
    }
   }
  },
  {
   "cell_type": "code",
   "execution_count": 25,
   "outputs": [
    {
     "name": "stdout",
     "output_type": "stream",
     "text": [
      "[-0.04513433 -0.16666667  0.12615589  0.41897844 -0.16666667 -0.16666667]\n"
     ]
    }
   ],
   "source": [
    "rewards = np.array([500, 300, 700, 900, 100, 400])\n",
    "print(u(rewards))"
   ],
   "metadata": {
    "collapsed": false,
    "ExecuteTime": {
     "end_time": "2023-11-18T08:42:42.588212Z",
     "start_time": "2023-11-18T08:42:42.585524Z"
    }
   }
  },
  {
   "cell_type": "code",
   "execution_count": 21,
   "outputs": [],
   "source": [
    "def calUtility(rewards):\n",
    "    rank = [0 for i in range(len(rewards))]\n",
    "    for r, i in enumerate(np.argsort(rewards)[::-1]):\n",
    "        rank[i] = r + 1  # rank kid by reward\n",
    "    mu = rewards.shape[0]\n",
    "    util_ = np.maximum(0, np.log(mu / 2 + 1) - np.log(rank))\n",
    "    utility = (util_ / (util_.sum())) - (1 / mu)\n",
    "    return utility"
   ],
   "metadata": {
    "collapsed": false,
    "ExecuteTime": {
     "end_time": "2023-11-18T08:40:18.603981Z",
     "start_time": "2023-11-18T08:40:18.582855Z"
    }
   }
  },
  {
   "cell_type": "code",
   "execution_count": 22,
   "outputs": [
    {
     "name": "stdout",
     "output_type": "stream",
     "text": [
      "[-0.04513433 -0.16666667  0.12615589  0.41897844 -0.16666667 -0.16666667]\n"
     ]
    }
   ],
   "source": [
    "print(calUtility(rewards))"
   ],
   "metadata": {
    "collapsed": false,
    "ExecuteTime": {
     "end_time": "2023-11-18T08:40:25.508870Z",
     "start_time": "2023-11-18T08:40:25.497653Z"
    }
   }
  },
  {
   "cell_type": "code",
   "execution_count": 9,
   "outputs": [
    {
     "data": {
      "text/plain": "array([[1., 2., 1.],\n       [2., 4., 2.],\n       [1., 2., 1.]])"
     },
     "execution_count": 9,
     "metadata": {},
     "output_type": "execute_result"
    }
   ],
   "source": [
    "x = np.ones(3)\n",
    "x[1] = 2\n",
    "c = np.outer(x, x)\n",
    "c"
   ],
   "metadata": {
    "collapsed": false,
    "ExecuteTime": {
     "end_time": "2023-11-18T16:54:59.481327Z",
     "start_time": "2023-11-18T16:54:59.476119Z"
    }
   }
  },
  {
   "cell_type": "code",
   "execution_count": 1,
   "outputs": [],
   "source": [
    "import numpy as np"
   ],
   "metadata": {
    "collapsed": false,
    "ExecuteTime": {
     "end_time": "2023-11-20T06:14:47.570565Z",
     "start_time": "2023-11-20T06:14:47.459566Z"
    }
   }
  },
  {
   "cell_type": "code",
   "execution_count": 2,
   "outputs": [
    {
     "data": {
      "text/plain": "array([[1, 0, 0, 0, 0],\n       [0, 2, 0, 0, 0],\n       [0, 0, 3, 0, 0],\n       [0, 0, 0, 4, 0],\n       [0, 0, 0, 0, 5]])"
     },
     "execution_count": 2,
     "metadata": {},
     "output_type": "execute_result"
    }
   ],
   "source": [
    "diag = np.array([1, 2, 3, 4, 5])\n",
    "cov = np.diag(diag)\n",
    "cov"
   ],
   "metadata": {
    "collapsed": false,
    "ExecuteTime": {
     "end_time": "2023-11-20T06:15:29.755499Z",
     "start_time": "2023-11-20T06:15:29.712598Z"
    }
   }
  },
  {
   "cell_type": "code",
   "execution_count": 3,
   "outputs": [],
   "source": [
    "evals, evecs = np.linalg.eig(cov)"
   ],
   "metadata": {
    "collapsed": false,
    "ExecuteTime": {
     "end_time": "2023-11-20T06:16:12.988285Z",
     "start_time": "2023-11-20T06:16:12.963742Z"
    }
   }
  },
  {
   "cell_type": "code",
   "execution_count": 4,
   "outputs": [
    {
     "data": {
      "text/plain": "array([1., 2., 3., 4., 5.])"
     },
     "execution_count": 4,
     "metadata": {},
     "output_type": "execute_result"
    }
   ],
   "source": [
    "evals"
   ],
   "metadata": {
    "collapsed": false,
    "ExecuteTime": {
     "end_time": "2023-11-20T06:16:16.049886Z",
     "start_time": "2023-11-20T06:16:16.039684Z"
    }
   }
  },
  {
   "cell_type": "code",
   "execution_count": 5,
   "outputs": [
    {
     "data": {
      "text/plain": "array([[1., 0., 0., 0., 0.],\n       [0., 1., 0., 0., 0.],\n       [0., 0., 1., 0., 0.],\n       [0., 0., 0., 1., 0.],\n       [0., 0., 0., 0., 1.]])"
     },
     "execution_count": 5,
     "metadata": {},
     "output_type": "execute_result"
    }
   ],
   "source": [
    "evecs"
   ],
   "metadata": {
    "collapsed": false,
    "ExecuteTime": {
     "end_time": "2023-11-20T06:16:20.159100Z",
     "start_time": "2023-11-20T06:16:20.140363Z"
    }
   }
  },
  {
   "cell_type": "code",
   "execution_count": 6,
   "outputs": [
    {
     "data": {
      "text/plain": "array([1.        , 1.41421356, 1.73205081, 2.        , 2.23606798])"
     },
     "execution_count": 6,
     "metadata": {},
     "output_type": "execute_result"
    }
   ],
   "source": [
    "evals ** 0.5"
   ],
   "metadata": {
    "collapsed": false,
    "ExecuteTime": {
     "end_time": "2023-11-20T06:16:37.912603Z",
     "start_time": "2023-11-20T06:16:37.900699Z"
    }
   }
  },
  {
   "cell_type": "code",
   "execution_count": 34,
   "outputs": [],
   "source": [
    "def gen_children(m)\n",
    "\n",
    "def decompose(mat):\n",
    "    evals, evecs = np.linalg.eig(mat)\n",
    "    C = evecs @ (np.diag(evals ** 0.5))\n",
    "    return C.T\n",
    "\n",
    "def calDelta(mat):\n",
    "    d = mat.shape[0]\n",
    "    return np.power(abs(np.linalg.det(mat)), 1 / d)\n",
    "\n",
    "def fit()"
   ],
   "metadata": {
    "collapsed": false,
    "ExecuteTime": {
     "end_time": "2023-11-20T06:29:54.925605Z",
     "start_time": "2023-11-20T06:29:54.916307Z"
    }
   }
  },
  {
   "cell_type": "code",
   "execution_count": 25,
   "outputs": [],
   "source": [
    "A = decompose(np.mat(\"6, -3, 1; -3, 2, 0; 1, 0, 4\"))"
   ],
   "metadata": {
    "collapsed": false,
    "ExecuteTime": {
     "end_time": "2023-11-20T06:23:56.438192Z",
     "start_time": "2023-11-20T06:23:56.428635Z"
    }
   }
  },
  {
   "cell_type": "code",
   "execution_count": 35,
   "outputs": [
    {
     "data": {
      "text/plain": "1.4677992676220704"
     },
     "execution_count": 35,
     "metadata": {},
     "output_type": "execute_result"
    }
   ],
   "source": [
    "calDelta(A)"
   ],
   "metadata": {
    "collapsed": false,
    "ExecuteTime": {
     "end_time": "2023-11-20T06:29:56.120444Z",
     "start_time": "2023-11-20T06:29:56.116447Z"
    }
   }
  },
  {
   "cell_type": "code",
   "execution_count": 21,
   "outputs": [
    {
     "data": {
      "text/plain": "matrix([[ 2.41856456, -1.24858383,  0.6346042 ],\n        [-0.27754941, -0.49916794,  0.07566629],\n        [-0.27113055,  0.43802945,  1.89513908]])"
     },
     "execution_count": 21,
     "metadata": {},
     "output_type": "execute_result"
    }
   ],
   "source": [],
   "metadata": {
    "collapsed": false,
    "ExecuteTime": {
     "end_time": "2023-11-20T06:23:18.155253Z",
     "start_time": "2023-11-20T06:23:18.151684Z"
    }
   }
  },
  {
   "cell_type": "code",
   "execution_count": 22,
   "outputs": [
    {
     "data": {
      "text/plain": "matrix([[ 6.00000000e+00, -3.00000000e+00,  1.00000000e+00],\n        [-3.00000000e+00,  2.00000000e+00, -4.86769505e-16],\n        [ 1.00000000e+00, -4.86769505e-16,  4.00000000e+00]])"
     },
     "execution_count": 22,
     "metadata": {},
     "output_type": "execute_result"
    }
   ],
   "source": [
    "B.T @ B"
   ],
   "metadata": {
    "collapsed": false,
    "ExecuteTime": {
     "end_time": "2023-11-20T06:23:22.871043Z",
     "start_time": "2023-11-20T06:23:22.845809Z"
    }
   }
  },
  {
   "cell_type": "code",
   "execution_count": 36,
   "outputs": [],
   "source": [
    "x = np.array([[1,2,3],[4,5,6]])"
   ],
   "metadata": {
    "collapsed": false,
    "ExecuteTime": {
     "end_time": "2023-11-20T07:03:48.610843Z",
     "start_time": "2023-11-20T07:03:48.592703Z"
    }
   }
  },
  {
   "cell_type": "code",
   "execution_count": 37,
   "outputs": [
    {
     "data": {
      "text/plain": "2"
     },
     "execution_count": 37,
     "metadata": {},
     "output_type": "execute_result"
    }
   ],
   "source": [
    "len(x)"
   ],
   "metadata": {
    "collapsed": false,
    "ExecuteTime": {
     "end_time": "2023-11-20T07:03:51.558971Z",
     "start_time": "2023-11-20T07:03:51.546810Z"
    }
   }
  },
  {
   "cell_type": "code",
   "execution_count": 38,
   "outputs": [
    {
     "data": {
      "text/plain": "3"
     },
     "execution_count": 38,
     "metadata": {},
     "output_type": "execute_result"
    }
   ],
   "source": [
    "len(x[0])"
   ],
   "metadata": {
    "collapsed": false,
    "ExecuteTime": {
     "end_time": "2023-11-20T07:03:57.077033Z",
     "start_time": "2023-11-20T07:03:57.039709Z"
    }
   }
  },
  {
   "cell_type": "code",
   "execution_count": null,
   "outputs": [],
   "source": [],
   "metadata": {
    "collapsed": false
   }
  }
 ],
 "metadata": {
  "kernelspec": {
   "display_name": "Python 3",
   "language": "python",
   "name": "python3"
  },
  "language_info": {
   "codemirror_mode": {
    "name": "ipython",
    "version": 3
   },
   "file_extension": ".py",
   "mimetype": "text/x-python",
   "name": "python",
   "nbconvert_exporter": "python",
   "pygments_lexer": "ipython3",
   "version": "3.7.4"
  }
 },
 "nbformat": 4,
 "nbformat_minor": 2
}
